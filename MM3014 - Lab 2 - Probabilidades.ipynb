{
 "cells": [
  {
   "attachments": {},
   "cell_type": "markdown",
   "id": "60200b30",
   "metadata": {},
   "source": [
    "# Laboratorio 2 - Probabilidades\n",
    "\n",
    "### Instrucciones: Escriba programas en Python para generar todos los posibles resultados de cada experimento aleatorio, filtrar según las condiciones de cada evento y contar para resolver los ejercicios."
   ]
  },
  {
   "cell_type": "markdown",
   "id": "4b06e79f",
   "metadata": {},
   "source": [
    "## Ejercicio 1.\n",
    "\n",
    "Suponga que una caja contiene dos monedas de tipo A y una de tipo B. Cuando se lanza una moneda de tipo A, sale cara con probabilidad 1/4, mientras que cuando se lanza una moneda de tipo B, sale cara con probabilidad 3/4. \n",
    "\n",
    "Un experimento aleatorio consiste en elegir al azar una moneda de la urna y lanzarla.\n",
    "\n",
    "Si se sabe que el resultado fue cara, ¿cuál es la probabilidad de que sea una moneda de tipo A?"
   ]
  },
  {
   "cell_type": "code",
   "execution_count": null,
   "id": "7589f2e6",
   "metadata": {},
   "outputs": [],
   "source": []
  },
  {
   "cell_type": "markdown",
   "id": "029626f5",
   "metadata": {},
   "source": [
    "## Ejercicio 2.\n",
    "\n",
    "Suponga que se extrae un 10 rojo y un 6 rojo de un mazo estándar de cartas. Luego, un experimento aleatorio consiste en extraer una carta del mazo incompleto. \n",
    "\n",
    "Sean $E$ el evento de que la tarjeta extraída es un 10, $F$ el evento en que la carta extraída es roja y $G$ el evento de que la carta extraída sea un 10 o un 6. \n",
    "\n",
    "Demuestre que $E$ y $F$ no son independientes, pero son condicionalmente independientes$^*$ condicionados a $G$.\n",
    "\n",
    "<small> **Definición**: Dos eventos, $E$ y $F$, son _condicionalmente independientes_ dados $G$ si y solo si, la probabilidad de que ambos eventos ocurran al mismo tiempo, dado que $G$ ya ocurrió, es igual al producto de la probabilidad de que cada evento ocurra individualmente, dado que $G$ ya ocurrió. En símbolos: $$P(E \\cap F \\mid G) = P(E \\mid G)P(F \\mid G)$$<small>"
   ]
  },
  {
   "cell_type": "code",
   "execution_count": null,
   "id": "e67ce71c",
   "metadata": {},
   "outputs": [],
   "source": []
  },
  {
   "cell_type": "markdown",
   "id": "d3df9906",
   "metadata": {},
   "source": [
    "## Ejercicio 3. \n",
    "Un experimento aleatorio consiste en extraer tres cartas con reemplazo$^*$ de un mazo estándar de 52 cartas. \n",
    "\n",
    "Sean $E$ el evento de que la carta 1 y la carta 2 tienen el mismo palo; $F$ el evento que la carta 2 y la\n",
    "carta 3 tienen el mismo palo y $G$ sea el evento de que la carta 1 y la carta 3 tienen el mismo palo. \n",
    "\n",
    "Demuestre que estos eventos son independientes por pares, pero no independientes.\n",
    "\n",
    "<small> $^*$ Se extrae una carta, se toma nota y se regresa al mazo, se mezclan las cartas, se extrae la siguiente, se toma nota, se mezclan, y se extrae la tercera. <small>"
   ]
  },
  {
   "cell_type": "code",
   "execution_count": null,
   "id": "1783e7a9",
   "metadata": {},
   "outputs": [],
   "source": []
  },
  {
   "attachments": {},
   "cell_type": "markdown",
   "id": "5cc4f0ab",
   "metadata": {},
   "source": [
    "## Ejercicio 4.\n",
    "\n",
    "Supongamos que la caja 1 contiene una pelota blanca y cuatro rojas, la caja 2 contiene dos pelotas blancas y tres rojas, y la caja 3 contiene tres pelotas blancas y dos rojas. En un experimento, se selecciona al azar una caja y, luego, se escogen tres pelotas. \n",
    "\n",
    "a. Si se sabe que la caja 1 no ha sido seleccionada, ¿cuál es la probabilidad de escoger exactamente dos pelotas rojas?\n",
    "b. Determine qué es más probable: salgan exactamente dos pelotas rojas o que salgan más pelotas blancas que rojas.\n",
    "c. Si se sabe que han salido exactamente dos pelotas rojas, ¿cuál es la probabilidad de que se haya escogido la caja 3?"
   ]
  },
  {
   "cell_type": "code",
   "execution_count": null,
   "id": "fb2d8387",
   "metadata": {},
   "outputs": [],
   "source": []
  }
 ],
 "metadata": {
  "kernelspec": {
   "display_name": "Python 3",
   "language": "python",
   "name": "python3"
  },
  "language_info": {
   "codemirror_mode": {
    "name": "ipython",
    "version": 3
   },
   "file_extension": ".py",
   "mimetype": "text/x-python",
   "name": "python",
   "nbconvert_exporter": "python",
   "pygments_lexer": "ipython3",
   "version": "3.11.2"
  }
 },
 "nbformat": 4,
 "nbformat_minor": 5
}
