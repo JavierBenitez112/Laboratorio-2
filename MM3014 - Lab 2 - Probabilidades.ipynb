{
 "cells": [
  {
   "attachments": {},
   "cell_type": "markdown",
   "id": "60200b30",
   "metadata": {},
   "source": [
    "# Laboratorio 2 - Probabilidades\n",
    "\n",
    "### Instrucciones: Escriba programas en Python para generar todos los posibles resultados de cada experimento aleatorio, filtrar según las condiciones de cada evento y contar para resolver los ejercicios."
   ]
  },
  {
   "cell_type": "markdown",
   "id": "4b06e79f",
   "metadata": {},
   "source": [
    "## Ejercicio 1.\n",
    "\n",
    "Suponga que una caja contiene dos monedas de tipo A y una de tipo B. Cuando se lanza una moneda de tipo A, sale cara con probabilidad 1/4, mientras que cuando se lanza una moneda de tipo B, sale cara con probabilidad 3/4. \n",
    "\n",
    "Un experimento aleatorio consiste en elegir al azar una moneda de la urna y lanzarla.\n",
    "\n",
    "Si se sabe que el resultado fue cara, ¿cuál es la probabilidad de que sea una moneda de tipo A?"
   ]
  },
  {
   "cell_type": "code",
   "execution_count": null,
   "id": "7589f2e6",
   "metadata": {},
   "outputs": [],
   "source": [
    "from itertools import product\n",
    "\n",
    "\n",
    "# Ejercicio 1\n",
    "monedas = ['A', 'A', 'B']\n",
    "\n",
    "resultados_A = ['cara', 'cruz', 'cruz', 'cruz']\n",
    "resultados_B = ['cara', 'cara', 'cara', 'cruz']\n",
    "    \n",
    "    \n",
    "escenarios = list(product(monedas, resultados_A)) + list(product(['B'], resultados_B))\n",
    "    \n",
    "    \n",
    "caras = [escenario for escenario in escenarios if escenario[1] == 'cara']\n",
    "    \n",
    "  \n",
    "A_dado_cara = sum(1 for moneda, _ in caras if moneda == 'A') / len(caras)\n",
    "    \n",
    "resultado = A_dado_cara\n",
    "\n",
    "print(f\"La probabilidad de que sea una moneda de tipo A dado que salió cara es: {resultado:.2%}\")\n",
    "\n"
   ]
  },
  {
   "cell_type": "markdown",
   "id": "029626f5",
   "metadata": {},
   "source": [
    "## Ejercicio 2.\n",
    "\n",
    "Suponga que se extrae un 10 rojo y un 6 rojo de un mazo estándar de cartas. Luego, un experimento aleatorio consiste en extraer una carta del mazo incompleto. \n",
    "\n",
    "Sean $E$ el evento de que la tarjeta extraída es un 10, $F$ el evento en que la carta extraída es roja y $G$ el evento de que la carta extraída sea un 10 o un 6. \n",
    "\n",
    "Demuestre que $E$ y $F$ no son independientes, pero son condicionalmente independientes$^*$ condicionados a $G$.\n",
    "\n",
    "<small> **Definición**: Dos eventos, $E$ y $F$, son _condicionalmente independientes_ dados $G$ si y solo si, la probabilidad de que ambos eventos ocurran al mismo tiempo, dado que $G$ ya ocurrió, es igual al producto de la probabilidad de que cada evento ocurra individualmente, dado que $G$ ya ocurrió. En símbolos: $$P(E \\cap F \\mid G) = P(E \\mid G)P(F \\mid G)$$<small>"
   ]
  },
  {
   "cell_type": "code",
   "execution_count": null,
   "id": "e67ce71c",
   "metadata": {},
   "outputs": [],
   "source": []
  },
  {
   "cell_type": "markdown",
   "id": "d3df9906",
   "metadata": {},
   "source": [
    "## Ejercicio 3. \n",
    "Un experimento aleatorio consiste en extraer tres cartas con reemplazo$^*$ de un mazo estándar de 52 cartas. \n",
    "\n",
    "Sean $E$ el evento de que la carta 1 y la carta 2 tienen el mismo palo; $F$ el evento que la carta 2 y la\n",
    "carta 3 tienen el mismo palo y $G$ sea el evento de que la carta 1 y la carta 3 tienen el mismo palo. \n",
    "\n",
    "Demuestre que estos eventos son independientes por pares, pero no independientes.\n",
    "\n",
    "<small> $^*$ Se extrae una carta, se toma nota y se regresa al mazo, se mezclan las cartas, se extrae la siguiente, se toma nota, se mezclan, y se extrae la tercera. <small>"
   ]
  },
  {
   "cell_type": "code",
   "execution_count": null,
   "id": "1783e7a9",
   "metadata": {},
   "outputs": [],
   "source": []
  },
  {
   "attachments": {},
   "cell_type": "markdown",
   "id": "5cc4f0ab",
   "metadata": {},
   "source": [
    "## Ejercicio 4.\n",
    "\n",
    "Supongamos que la caja 1 contiene una pelota blanca y cuatro rojas, la caja 2 contiene dos pelotas blancas y tres rojas, y la caja 3 contiene tres pelotas blancas y dos rojas. En un experimento, se selecciona al azar una caja y, luego, se escogen tres pelotas. \n",
    "\n",
    "a. Si se sabe que la caja 1 no ha sido seleccionada, ¿cuál es la probabilidad de escoger exactamente dos pelotas rojas?\n",
    "b. Determine qué es más probable: salgan exactamente dos pelotas rojas o que salgan más pelotas blancas que rojas.\n",
    "c. Si se sabe que han salido exactamente dos pelotas rojas, ¿cuál es la probabilidad de que se haya escogido la caja 3?"
   ]
  },
  {
   "cell_type": "code",
   "execution_count": null,
   "id": "fb2d8387",
   "metadata": {},
   "outputs": [],
   "source": [
    "from itertools import combinations\n",
    "from collections import Counter\n",
    "\n",
    "def ejercicio_4():\n",
    "    \n",
    "    caja2 = ['B', 'B', 'R', 'R', 'R']  \n",
    "    caja3 = ['B', 'B', 'B', 'R', 'R']\n",
    "\n",
    "\n",
    "    casos_caja2 = list(combinations(caja2, 3))\n",
    "    casos_caja3 = list(combinations(caja3, 3))\n",
    "\n",
    "    def contar_dos_rojas(casos):\n",
    "        return sum(1 for caso in casos if Counter(caso)['R'] == 2)\n",
    "\n",
    "    total_caja2 = len(casos_caja2)\n",
    "    total_caja3 = len(casos_caja3)\n",
    "\n",
    "    p_caja2 = contar_dos_rojas(casos_caja2) / total_caja2\n",
    "    p_caja3 = contar_dos_rojas(casos_caja3) / total_caja3\n",
    "\n",
    "    p_a = (p_caja2 + p_caja3) / 2\n",
    "    print(f\"a) Probabilidad de sacar exactamente dos rojas: {p_a:.4f}\")\n",
    "\n",
    "   \n",
    "    def contar_mas_blancas(casos):\n",
    "        return sum(1 for caso in casos if Counter(caso)['B'] > Counter(caso)['R'])\n",
    "\n",
    "    p_mas_blancas_caja2 = contar_mas_blancas(casos_caja2) / total_caja2\n",
    "    p_mas_blancas_caja3 = contar_mas_blancas(casos_caja3) / total_caja3\n",
    "\n",
    "    p_mas_blancas = (p_mas_blancas_caja2 + p_mas_blancas_caja3) / 2\n",
    "\n",
    "    resultado_b = \"exactamente dos rojas\" if p_a > p_mas_blancas else \"más blancas que rojas\"\n",
    "    print(f\"b) Es más probable que salgan {resultado_b}\")\n",
    "\n",
    "\n",
    "    total_casos = casos_caja2 + casos_caja3\n",
    "    casos_dos_rojas = [caso for caso in total_casos if Counter(caso)['R'] == 2]\n",
    "\n",
    "    p_c3 = len([caso for caso in casos_caja3 if Counter(caso)['R'] == 2]) / len(casos_dos_rojas)\n",
    "    print(f\"c) Probabilidad de que sea la caja 3 dado que salieron exactamente dos rojas: {p_c3:.4f}\")\n",
    "\n",
    "\n",
    "\n",
    "ejercicio_4()\n"
   ]
  },
  {
   "cell_type": "code",
   "execution_count": null,
   "id": "c3b3fb2f",
   "metadata": {},
   "outputs": [],
   "source": []
  }
 ],
 "metadata": {
  "kernelspec": {
   "display_name": "Python 3",
   "language": "python",
   "name": "python3"
  },
  "language_info": {
   "codemirror_mode": {
    "name": "ipython",
    "version": 3
   },
   "file_extension": ".py",
   "mimetype": "text/x-python",
   "name": "python",
   "nbconvert_exporter": "python",
   "pygments_lexer": "ipython3",
   "version": "3.11.2"
  }
 },
 "nbformat": 4,
 "nbformat_minor": 5
}
